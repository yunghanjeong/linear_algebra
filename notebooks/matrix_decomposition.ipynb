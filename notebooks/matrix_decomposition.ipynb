{
 "cells": [
  {
   "cell_type": "code",
   "execution_count": 2,
   "id": "3c55fd8a-111c-449f-8621-1eb3c8312e93",
   "metadata": {
    "tags": []
   },
   "outputs": [],
   "source": [
    "import numpy as np"
   ]
  },
  {
   "cell_type": "markdown",
   "id": "8c3eb035-1e5d-42ab-82c9-481626ecf454",
   "metadata": {},
   "source": [
    "## Matrices as System of Equations\n",
    "\n",
    "A system of equations can be represented as a matrix of the coefficient, variable, and scalar matrices"
   ]
  },
  {
   "cell_type": "markdown",
   "id": "8bd47d05-7e64-4ee0-ba71-bc3042a03d74",
   "metadata": {},
   "source": [
    "\\begin{gather}\n",
    "3x + 2y -7z = 4\n",
    "\\end{gather}\n",
    "\n",
    "\\begin{gather}\n",
    "1x + 3y -2z = 12\n",
    "\\end{gather}\n",
    "\n",
    "\\begin{gather}\n",
    "2x + 4y -5z = 13\n",
    "\\end{gather}\n",
    "\n",
    "\\begin{gather}\n",
    "\\begin{bmatrix} \n",
    "    3 & 2 & -7\\\\\n",
    "    1 & 3 & -2\\\\\n",
    "    2 & 4 & -5\\\\\n",
    "    \\end{bmatrix}\n",
    "\\begin{bmatrix} \n",
    "    x\\\\\n",
    "    y\\\\\n",
    "    z\\\\\n",
    "    \\end{bmatrix}\n",
    "=\n",
    "\\begin{bmatrix} \n",
    "    4\\\\\n",
    "    12\\\\\n",
    "    13\\\\\n",
    "    \\end{bmatrix}\n",
    "\\end{gather}\n"
   ]
  },
  {
   "cell_type": "markdown",
   "id": "a2ea0a6a-0392-4119-b045-762f101f0203",
   "metadata": {},
   "source": [
    "which generalizes as"
   ]
  },
  {
   "cell_type": "markdown",
   "id": "39556571-233a-4b18-a200-57f8052230ec",
   "metadata": {},
   "source": [
    "\\begin{gather}\n",
    "Ax = b\n",
    "\\end{gather}"
   ]
  },
  {
   "cell_type": "markdown",
   "id": "f580d13c-5800-4f5a-8883-0245f66c7215",
   "metadata": {},
   "source": [
    "Where a coefficient matrix A and a variable column matrix (vector) x is equal to a scalar volumn matrix (vector) b"
   ]
  },
  {
   "cell_type": "markdown",
   "id": "573f75d5-17b6-4f57-a8f3-381eddeeb102",
   "metadata": {},
   "source": [
    "### Reference to ML\n",
    "\n",
    "This is a linear/dense/fully connected layer with a hidden dimension of 1."
   ]
  },
  {
   "cell_type": "markdown",
   "id": "349dfc00-7915-4abb-8a8d-8ebc0899a018",
   "metadata": {},
   "source": [
    "***"
   ]
  },
  {
   "cell_type": "markdown",
   "id": "85f66a39-209e-4be2-9f81-28273f028531",
   "metadata": {},
   "source": [
    "## Matrix Decomposition\n",
    "\n",
    "Matrix decomposition is factorization of a matrix into a product of matrices.\n",
    "\n",
    "Recall factorization was to simplify an equation"
   ]
  },
  {
   "cell_type": "markdown",
   "id": "6a4876b4-0007-4384-be12-5de2ba36825e",
   "metadata": {},
   "source": [
    "\\begin{gather} \n",
    "x^2 + 4x + 3 = (x+3)(x+1)\n",
    "    \\end{gather}"
   ]
  },
  {
   "cell_type": "markdown",
   "id": "42233d59-c4dd-4a34-ad7d-5ed96946939f",
   "metadata": {},
   "source": [
    "In real number space x^2 and x are linearly indepdent (orthogonal) they can be expressed as following"
   ]
  },
  {
   "cell_type": "markdown",
   "id": "4009b0f7-9b51-4d4b-a8eb-ff6ce8f6713c",
   "metadata": {},
   "source": [
    "\\begin{gather} \n",
    "a + 4b + 3 = (c+3)(d+1)\n",
    "    \\end{gather}"
   ]
  },
  {
   "cell_type": "markdown",
   "id": "2bba3b8e-8274-4c5b-8ad6-05200ccfcccb",
   "metadata": {},
   "source": [
    "This logic follows to the system of equations and the matrix A can be decomposed for more efficient calculation"
   ]
  },
  {
   "cell_type": "markdown",
   "id": "9bc6c388-ff89-40ff-bbe6-adac9c0a130f",
   "metadata": {},
   "source": [
    "***"
   ]
  },
  {
   "cell_type": "markdown",
   "id": "7e3e6ca5-bab3-4759-abd6-3428bc16bb42",
   "metadata": {},
   "source": [
    "## LU Decomposition"
   ]
  },
  {
   "cell_type": "markdown",
   "id": "0e303e7f-2480-4f7c-9d9a-b1f823cb2faa",
   "metadata": {},
   "source": [
    "LU decomposition looks at following square matrix A as a product of lower triangular matrix L and upper triangular U "
   ]
  },
  {
   "cell_type": "markdown",
   "id": "e37dc69d-c3e9-469e-bdbe-3ef9b9ceb780",
   "metadata": {},
   "source": [
    "\\begin{gather}\n",
    "    A = LU\n",
    "\\end{gather}"
   ]
  },
  {
   "cell_type": "markdown",
   "id": "00c6f847-0882-4e02-8478-af6e40c88799",
   "metadata": {},
   "source": [
    "The matrix example looks like this"
   ]
  },
  {
   "cell_type": "markdown",
   "id": "82424a7f-5bfd-40f2-ba4b-9e6ef1bd51fb",
   "metadata": {
    "jp-MarkdownHeadingCollapsed": true,
    "tags": []
   },
   "source": [
    "\\begin{gather}\n",
    "\\begin{bmatrix} \n",
    "    a_{11} & a_{12} & a_{13}\\\\\n",
    "    a_{21} & a_{22} & a_{23}\\\\\n",
    "    a_{31} & a_{32} & a_{33}\\\\\n",
    "    \\end{bmatrix}\n",
    "=\n",
    "\\begin{bmatrix} \n",
    "    l_{11} & 0      & 0\\\\\n",
    "    l_{21} & l_{22} & 0\\\\\n",
    "    l_{31} & l_{32} & l_{33}\\\\\n",
    "    \\end{bmatrix}\n",
    "\\begin{bmatrix} \n",
    "    u_{11} & u_{12} & u_{13}\\\\\n",
    "    0      & u_{22} & u_{23}\\\\\n",
    "    0      & 0      & u_{33}\\\\\n",
    "    \\end{bmatrix}\n",
    "\\end{gather}"
   ]
  },
  {
   "cell_type": "markdown",
   "id": "dcf8b17c-6f06-45f5-b5b8-ca9070f1593e",
   "metadata": {},
   "source": [
    "Solving product out results in following system of equations"
   ]
  },
  {
   "cell_type": "markdown",
   "id": "eb0c6cdf-2da3-49a5-b556-9b68290ebfa1",
   "metadata": {
    "tags": []
   },
   "source": [
    "\\begin{gather}\n",
    "\\begin{bmatrix} \n",
    "    a_{11} & a_{12} & a_{13}\\\\\n",
    "    a_{21} & a_{22} & a_{23}\\\\\n",
    "    a_{31} & a_{32} & a_{33}\\\\\n",
    "    \\end{bmatrix}\n",
    "=\n",
    "\\begin{bmatrix} \n",
    "    l_{11} u_{11} & l_{11} u_{12} & l_{11} u_{13} \\\\\n",
    "    l_{21} u_{11} & l_{21} u_{12} + l_{22} u_{22} & l_{21} u_{13} + l_{22} u_{23} \\\\\n",
    "    l_{31} u_{11} & l_{31} u_{12} + l_{32} u_{22} & l_{31} u_{13} + l_{32} u_{23} + l_{33} u_{33} \\\\\n",
    "    \\end{bmatrix}\n",
    "\\end{gather}"
   ]
  },
  {
   "cell_type": "markdown",
   "id": "bc956d66-55fd-402c-b9cd-d8d2a4e2c4b8",
   "metadata": {},
   "source": [
    "\\begin{gather}\n",
    "a_{11} = l_{11} u_{11}\n",
    "\\end{gather}\n",
    "\n",
    "\\begin{gather}\n",
    "a_{12} = l_{11} u_{12}\n",
    "\\end{gather}\n",
    "\n",
    "\\begin{gather}\n",
    "a_{13} = l_{11} u_{13}\n",
    "\\end{gather}\n",
    "\n",
    "\\begin{gather}\n",
    "a_{21} = l_{21} u_{11}\n",
    "\\end{gather}\n",
    "\n",
    "\\begin{gather}\n",
    "a_{22} = l_{21} u_{11} + l_{22} u_{22}\n",
    "\\end{gather}\n",
    "\n",
    "\\begin{gather}\n",
    "a_{23} = l_{21} u_{13} + l_{22} u_{23}\n",
    "\\end{gather}\n",
    "\n",
    "\\begin{gather}\n",
    "a_{31} = l_{31} u_{11}\n",
    "\\end{gather}\n",
    "\n",
    "\\begin{gather}\n",
    "a_{32} = l_{31} u_{12} + l_{32} u_{22}\n",
    "\\end{gather}\n",
    "\n",
    "\\begin{gather}\n",
    "a_{33} = l_{31} u_{13} + l_{32} u_{23} + l_{33} u_{33}\n",
    "\\end{gather}"
   ]
  },
  {
   "cell_type": "markdown",
   "id": "d2181c11-5f54-4f6c-b108-d4adacdc0ebe",
   "metadata": {},
   "source": [
    "Note that equation is underdetermined (more unknowns than known) with known a (9) and unknown l an u (6 + 6 total 12)\n",
    "\n",
    "Therefore, for a unique solution the matrix L or Ucan be bound or parameterized.\n",
    "\n",
    "This can be achieved by setting the diagonal of L or U is set to 1. Essentially forming the row-echelon for to solve the equations."
   ]
  },
  {
   "cell_type": "markdown",
   "id": "44fad761-7165-4864-8174-40bddb824c3c",
   "metadata": {},
   "source": [
    "***"
   ]
  },
  {
   "cell_type": "markdown",
   "id": "e0d49068-ae61-4910-9b9b-974152be12cf",
   "metadata": {
    "tags": []
   },
   "source": [
    "## Singular Value Decomposition\n",
    "\n",
    "Another decomposition of the matrix is called singular value decomposition (SVD).\n",
    "\n",
    "This can be performed with a rectangular matrix.\n",
    "\n",
    "Rectangular might indicate that it's solvable? It's overdetermined?"
   ]
  },
  {
   "cell_type": "markdown",
   "id": "43849402-5479-4a6c-8865-35643674c8bf",
   "metadata": {},
   "source": [
    "\\begin{gather}\n",
    "    A = U \\Sigma V^T\n",
    "\\end{gather}\n",
    "\n",
    "\\begin{gather}\n",
    "\\begin{matrix} \n",
    "    A & \\text{rectangular (m, n)} \\\\\n",
    "    U & \\text{orthogonal (m, m)} \\\\\n",
    "    \\Sigma & \\text{diagonal (m, n)} \\\\\n",
    "    V^T & \\text{orthogonal (n, n)} \\\\\n",
    "    \\end{matrix}\n",
    "\\end{gather}"
   ]
  },
  {
   "cell_type": "markdown",
   "id": "80bdb861-9457-4f09-a72c-8903292f0383",
   "metadata": {},
   "source": [
    "\\begin{gather}\n",
    "\\begin{matrix} \n",
    "    U & \\text{eigenvectors, principal components} \\\\\n",
    "    \\Sigma & \\text{eigenvalues} \\\\\n",
    "    V^T & \\text{eigenvectors, variance} \\\\\n",
    "    \\end{matrix}\n",
    "\\end{gather}"
   ]
  },
  {
   "cell_type": "markdown",
   "id": "4bdc8964-ec9a-4664-b818-ca4a59fbfe51",
   "metadata": {},
   "source": [
    "Using some need matrix transpose properties:\n",
    "\n",
    "\\begin{gather}\n",
    "    A = U \\Sigma V^T\n",
    "\\end{gather}\n",
    "\n",
    "\\begin{equation} \n",
    "    A^TA = (U \\Sigma V^T)^TU \\Sigma V^T\n",
    "    \\end{equation}\n",
    "    \n",
    "Using the transpose property\n",
    "\n",
    "\\begin{equation} \n",
    "    A^TA = (V \\Sigma^T U^T)U \\Sigma V^T\n",
    "    \\end{equation}\n",
    "    \n",
    "Since orthogonal matrix has identity property:\n",
    "\n",
    "\\begin{equation} \n",
    "    A^TA = I = AA^T\n",
    "    \\end{equation}\n",
    "    \n",
    "\\begin{equation} \n",
    "    A^TA = V \\Sigma^T I \\Sigma V^T\n",
    "    \\end{equation}\n",
    "\n",
    "\\begin{equation} \n",
    "    A^TA = V \\Sigma^T\\Sigma V^T\n",
    "    \\end{equation}\n",
    "    \n",
    "Eigenvalues are in a diagonal matrix therefore\n",
    "\n",
    "\\begin{equation} \n",
    "    A^TA = V \\Sigma^2 V^T\n",
    "    \\end{equation}\n",
    "    "
   ]
  },
  {
   "cell_type": "code",
   "execution_count": 66,
   "id": "6035a1cd-3ca5-4262-b5b4-612e5818edc2",
   "metadata": {},
   "outputs": [],
   "source": [
    "# matrix 5 rows and 3 columns\n",
    "# 5 samples with 3 features\n",
    "# 5 by 3 image\n",
    "A = np.random.randn(5, 3)"
   ]
  },
  {
   "cell_type": "code",
   "execution_count": 67,
   "id": "7e16237f-b5e4-45ff-a0a7-77d813c53127",
   "metadata": {
    "tags": []
   },
   "outputs": [
    {
     "data": {
      "text/plain": [
       "array([[ 0.13703306,  0.99063995, -0.23511263],\n",
       "       [-1.36584569, -0.22339625,  0.53385711],\n",
       "       [-0.80690015, -0.22452443, -1.18514103],\n",
       "       [ 0.08095395,  1.10636779, -0.89955485],\n",
       "       [ 0.72652056,  0.96916163,  0.15570727]])"
      ]
     },
     "execution_count": 67,
     "metadata": {},
     "output_type": "execute_result"
    }
   ],
   "source": [
    "A"
   ]
  },
  {
   "cell_type": "code",
   "execution_count": 68,
   "id": "1fdf69dc-0eea-4eee-8c71-34150e990522",
   "metadata": {
    "tags": []
   },
   "outputs": [],
   "source": [
    "A_norm = A - A.mean()\n",
    "u, s, vt = np.linalg.svd(A_norm)"
   ]
  },
  {
   "cell_type": "markdown",
   "id": "3efccc93-b0cd-458e-85fa-26e35e7368da",
   "metadata": {},
   "source": [
    "Remember covariance is the relation between the features in stat/PCA"
   ]
  },
  {
   "cell_type": "code",
   "execution_count": 71,
   "id": "faa34705-787a-4427-9209-28f465b0bc9d",
   "metadata": {
    "tags": []
   },
   "outputs": [],
   "source": [
    "C = np.dot(np.dot(vt.T, np.diag(s**2)), vt) / (A_norm.shape[0] - 1)\n",
    "covariance = np.cov(A.T)\n",
    "LHS = np.dot(A.T, A) / (A_norm.shape[0] - 1)"
   ]
  },
  {
   "cell_type": "code",
   "execution_count": 70,
   "id": "e95ef8db-e47c-4a23-9737-a8befc840f91",
   "metadata": {
    "tags": []
   },
   "outputs": [
    {
     "data": {
      "text/plain": [
       "array([[ 0.75793165,  0.35981726,  0.04767752],\n",
       "       [ 0.35981726,  0.83253915, -0.22832689],\n",
       "       [ 0.04767752, -0.22832689,  0.63183705]])"
      ]
     },
     "execution_count": 70,
     "metadata": {},
     "output_type": "execute_result"
    }
   ],
   "source": [
    "# orthogonal matrix since orthogonal matmul with diagonal wtih orthogonal?\n",
    "C"
   ]
  },
  {
   "cell_type": "code",
   "execution_count": 73,
   "id": "d277f215-7d69-4a6d-b433-7ea4ec551abc",
   "metadata": {
    "tags": []
   },
   "outputs": [
    {
     "data": {
      "text/plain": [
       "array([[ 0.69201804,  0.51472284, -0.04131445],\n",
       "       [ 0.51472284,  0.46849083, -0.01918415],\n",
       "       [-0.04131445, -0.01918415,  0.51168628]])"
      ]
     },
     "execution_count": 73,
     "metadata": {},
     "output_type": "execute_result"
    }
   ],
   "source": [
    "covariance"
   ]
  },
  {
   "cell_type": "code",
   "execution_count": 74,
   "id": "5032ca03-423a-4858-8866-bd80560f77e1",
   "metadata": {
    "tags": []
   },
   "outputs": [
    {
     "data": {
      "text/plain": [
       "array([[ 0.7674465 ,  0.35393118,  0.05880196],\n",
       "       [ 0.35393118,  0.81125214, -0.23260338],\n",
       "       [ 0.05880196, -0.23260338,  0.64457108]])"
      ]
     },
     "execution_count": 74,
     "metadata": {},
     "output_type": "execute_result"
    }
   ],
   "source": [
    "LHS"
   ]
  },
  {
   "cell_type": "markdown",
   "id": "d44845ee-8096-4da2-bb97-0eef91718a86",
   "metadata": {},
   "source": [
    "Also from PCA vt is used for explained variance ratio"
   ]
  },
  {
   "cell_type": "code",
   "execution_count": 96,
   "id": "62120255-4b4e-42e5-8e77-af8b60b81cf2",
   "metadata": {
    "tags": []
   },
   "outputs": [],
   "source": [
    "explained_variance = s**2 / (A.shape[0] - 1)\n",
    "explained_variance_ratio = explained_variance / explained_variance.sum()"
   ]
  },
  {
   "cell_type": "code",
   "execution_count": 97,
   "id": "025199a2-f086-4902-b00a-8937ae810220",
   "metadata": {
    "tags": []
   },
   "outputs": [
    {
     "data": {
      "text/plain": [
       "array([1.19375014, 0.7149584 , 0.31359932])"
      ]
     },
     "execution_count": 97,
     "metadata": {},
     "output_type": "execute_result"
    }
   ],
   "source": [
    "explained_variance"
   ]
  },
  {
   "cell_type": "code",
   "execution_count": 98,
   "id": "1d7a3967-5397-405e-a10e-912bcbbac118",
   "metadata": {
    "tags": []
   },
   "outputs": [
    {
     "data": {
      "text/plain": [
       "array([0.53716686, 0.32171888, 0.14111426])"
      ]
     },
     "execution_count": 98,
     "metadata": {},
     "output_type": "execute_result"
    }
   ],
   "source": [
    "explained_variance_ratio"
   ]
  },
  {
   "cell_type": "code",
   "execution_count": null,
   "id": "9856c5fe-87c1-4a51-ba07-e1b0236af28d",
   "metadata": {},
   "outputs": [],
   "source": []
  },
  {
   "cell_type": "code",
   "execution_count": null,
   "id": "59c7bf61-a4b7-4aab-a188-da4db3cd255d",
   "metadata": {},
   "outputs": [],
   "source": []
  },
  {
   "cell_type": "code",
   "execution_count": null,
   "id": "eef73f1c-917c-4871-877f-6ad86c45145b",
   "metadata": {},
   "outputs": [],
   "source": []
  },
  {
   "cell_type": "code",
   "execution_count": null,
   "id": "fa05ce62-0060-46fa-8233-2a920178eeec",
   "metadata": {},
   "outputs": [],
   "source": []
  },
  {
   "cell_type": "code",
   "execution_count": null,
   "id": "e1cd6c42-2149-4feb-ac2e-da0a106cb29b",
   "metadata": {},
   "outputs": [],
   "source": []
  },
  {
   "cell_type": "code",
   "execution_count": null,
   "id": "0a7d2b11-24cb-444b-8dbc-14028ebc5f61",
   "metadata": {},
   "outputs": [],
   "source": []
  }
 ],
 "metadata": {
  "kernelspec": {
   "display_name": "ocr_env",
   "language": "python",
   "name": "ocr_env"
  },
  "language_info": {
   "codemirror_mode": {
    "name": "ipython",
    "version": 3
   },
   "file_extension": ".py",
   "mimetype": "text/x-python",
   "name": "python",
   "nbconvert_exporter": "python",
   "pygments_lexer": "ipython3",
   "version": "3.11.3"
  }
 },
 "nbformat": 4,
 "nbformat_minor": 5
}

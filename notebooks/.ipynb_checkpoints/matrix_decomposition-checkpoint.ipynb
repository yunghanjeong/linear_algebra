{
 "cells": [
  {
   "cell_type": "code",
   "execution_count": 1,
   "id": "3c55fd8a-111c-449f-8621-1eb3c8312e93",
   "metadata": {
    "tags": []
   },
   "outputs": [],
   "source": [
    "import numpy as np"
   ]
  },
  {
   "cell_type": "markdown",
   "id": "8c3eb035-1e5d-42ab-82c9-481626ecf454",
   "metadata": {},
   "source": [
    "## Matrices as System of Equations\n",
    "\n",
    "A system of equations can be represented as a matrix of the coefficient, variable, and scalar matrices"
   ]
  },
  {
   "cell_type": "markdown",
   "id": "8bd47d05-7e64-4ee0-ba71-bc3042a03d74",
   "metadata": {},
   "source": [
    "\\begin{gather}\n",
    "3x + 2y -7z = 4\n",
    "\\end{gather}\n",
    "\n",
    "\\begin{gather}\n",
    "1x + 3y -2z = 12\n",
    "\\end{gather}\n",
    "\n",
    "\\begin{gather}\n",
    "2x + 4y -5z = 13\n",
    "\\end{gather}\n",
    "\n",
    "\\begin{gather}\n",
    "\\begin{bmatrix} \n",
    "    3 & 2 & -7\\\\\n",
    "    1 & 3 & -2\\\\\n",
    "    2 & 4 & -5\\\\\n",
    "    \\end{bmatrix}\n",
    "\\begin{bmatrix} \n",
    "    x\\\\\n",
    "    y\\\\\n",
    "    z\\\\\n",
    "    \\end{bmatrix}\n",
    "=\n",
    "\\begin{bmatrix} \n",
    "    4\\\\\n",
    "    12\\\\\n",
    "    13\\\\\n",
    "    \\end{bmatrix}\n",
    "\\end{gather}\n"
   ]
  },
  {
   "cell_type": "markdown",
   "id": "a2ea0a6a-0392-4119-b045-762f101f0203",
   "metadata": {},
   "source": [
    "which generalizes as"
   ]
  },
  {
   "cell_type": "markdown",
   "id": "39556571-233a-4b18-a200-57f8052230ec",
   "metadata": {},
   "source": [
    "\\begin{gather}\n",
    "Ax = b\n",
    "\\end{gather}"
   ]
  },
  {
   "cell_type": "markdown",
   "id": "f580d13c-5800-4f5a-8883-0245f66c7215",
   "metadata": {},
   "source": [
    "Where a coefficient matrix A and a variable column matrix (vector) x is equal to a scalar volumn matrix (vector) b"
   ]
  },
  {
   "cell_type": "markdown",
   "id": "573f75d5-17b6-4f57-a8f3-381eddeeb102",
   "metadata": {},
   "source": [
    "### Reference to ML\n",
    "\n",
    "This is a linear/dense/fully connected layer with a hidden dimension of 1."
   ]
  },
  {
   "cell_type": "markdown",
   "id": "349dfc00-7915-4abb-8a8d-8ebc0899a018",
   "metadata": {},
   "source": [
    "***"
   ]
  },
  {
   "cell_type": "markdown",
   "id": "85f66a39-209e-4be2-9f81-28273f028531",
   "metadata": {},
   "source": [
    "## Matrix Decomposition\n",
    "\n",
    "Matrix decomposition is factorization of a matrix into a product of matrices.\n",
    "\n",
    "Recall factorization was to simplify an equation"
   ]
  },
  {
   "cell_type": "markdown",
   "id": "6a4876b4-0007-4384-be12-5de2ba36825e",
   "metadata": {},
   "source": [
    "\\begin{gather} \n",
    "x^2 + 4x + 3 = (x+3)(x+1)\n",
    "    \\end{gather}"
   ]
  },
  {
   "cell_type": "markdown",
   "id": "42233d59-c4dd-4a34-ad7d-5ed96946939f",
   "metadata": {},
   "source": [
    "In real number space x^2 and x are linearly indepdent (orthogonal) they can be expressed as following"
   ]
  },
  {
   "cell_type": "markdown",
   "id": "4009b0f7-9b51-4d4b-a8eb-ff6ce8f6713c",
   "metadata": {},
   "source": [
    "\\begin{gather} \n",
    "a + 4b + 3 = (c+3)(d+1)\n",
    "    \\end{gather}"
   ]
  },
  {
   "cell_type": "markdown",
   "id": "2bba3b8e-8274-4c5b-8ad6-05200ccfcccb",
   "metadata": {},
   "source": [
    "This logic follows to the system of equations and the matrix A can be decomposed for more efficient calculation"
   ]
  },
  {
   "cell_type": "markdown",
   "id": "9bc6c388-ff89-40ff-bbe6-adac9c0a130f",
   "metadata": {},
   "source": [
    "***"
   ]
  },
  {
   "cell_type": "markdown",
   "id": "7e3e6ca5-bab3-4759-abd6-3428bc16bb42",
   "metadata": {},
   "source": [
    "## LU Decomposition"
   ]
  },
  {
   "cell_type": "markdown",
   "id": "0e303e7f-2480-4f7c-9d9a-b1f823cb2faa",
   "metadata": {},
   "source": [
    "LU decomposition looks at following square matrix A as a product of lower triangular matrix L and upper triangular U "
   ]
  },
  {
   "cell_type": "markdown",
   "id": "e37dc69d-c3e9-469e-bdbe-3ef9b9ceb780",
   "metadata": {},
   "source": [
    "\\begin{gather}\n",
    "    A = LU\n",
    "\\end{gather}"
   ]
  },
  {
   "cell_type": "markdown",
   "id": "00c6f847-0882-4e02-8478-af6e40c88799",
   "metadata": {},
   "source": [
    "The matrix example looks like this"
   ]
  },
  {
   "cell_type": "markdown",
   "id": "82424a7f-5bfd-40f2-ba4b-9e6ef1bd51fb",
   "metadata": {
    "jp-MarkdownHeadingCollapsed": true,
    "tags": []
   },
   "source": [
    "\\begin{gather}\n",
    "\\begin{bmatrix} \n",
    "    a_{11} & a_{12} & a_{13}\\\\\n",
    "    a_{21} & a_{22} & a_{23}\\\\\n",
    "    a_{31} & a_{32} & a_{33}\\\\\n",
    "    \\end{bmatrix}\n",
    "=\n",
    "\\begin{bmatrix} \n",
    "    l_{11} & 0      & 0\\\\\n",
    "    l_{21} & l_{22} & 0\\\\\n",
    "    l_{31} & l_{32} & l_{33}\\\\\n",
    "    \\end{bmatrix}\n",
    "\\begin{bmatrix} \n",
    "    u_{11} & u_{12} & u_{13}\\\\\n",
    "    0      & u_{22} & u_{23}\\\\\n",
    "    0      & 0      & u_{33}\\\\\n",
    "    \\end{bmatrix}\n",
    "\\end{gather}"
   ]
  },
  {
   "cell_type": "markdown",
   "id": "dcf8b17c-6f06-45f5-b5b8-ca9070f1593e",
   "metadata": {},
   "source": [
    "Solving product out results in following system of equations"
   ]
  },
  {
   "cell_type": "markdown",
   "id": "eb0c6cdf-2da3-49a5-b556-9b68290ebfa1",
   "metadata": {
    "tags": []
   },
   "source": [
    "\\begin{gather}\n",
    "\\begin{bmatrix} \n",
    "    a_{11} & a_{12} & a_{13}\\\\\n",
    "    a_{21} & a_{22} & a_{23}\\\\\n",
    "    a_{31} & a_{32} & a_{33}\\\\\n",
    "    \\end{bmatrix}\n",
    "=\n",
    "\\begin{bmatrix} \n",
    "    l_{11} u_{11} & l_{11} u_{12} & l_{11} u_{13} \\\\\n",
    "    l_{21} u_{11} & l_{21} u_{12} + l_{22} u_{22} & l_{21} u_{13} + l_{22} u_{23} \\\\\n",
    "    l_{31} u_{11} & l_{31} u_{12} + l_{32} u_{22} & l_{31} u_{13} + l_{32} u_{23} + l_{33} u_{33} \\\\\n",
    "    \\end{bmatrix}\n",
    "\\end{gather}"
   ]
  },
  {
   "cell_type": "markdown",
   "id": "bc956d66-55fd-402c-b9cd-d8d2a4e2c4b8",
   "metadata": {},
   "source": [
    "\\begin{gather}\n",
    "a_{11} = l_{11} u_{11}\n",
    "\\end{gather}\n",
    "\n",
    "\\begin{gather}\n",
    "a_{12} = l_{11} u_{12}\n",
    "\\end{gather}\n",
    "\n",
    "\\begin{gather}\n",
    "a_{13} = l_{11} u_{13}\n",
    "\\end{gather}\n",
    "\n",
    "\\begin{gather}\n",
    "a_{21} = l_{21} u_{11}\n",
    "\\end{gather}\n",
    "\n",
    "\\begin{gather}\n",
    "a_{22} = l_{21} u_{11} + l_{22} u_{22}\n",
    "\\end{gather}\n",
    "\n",
    "\\begin{gather}\n",
    "a_{23} = l_{21} u_{13} + l_{22} u_{23}\n",
    "\\end{gather}\n",
    "\n",
    "\\begin{gather}\n",
    "a_{31} = l_{31} u_{11}\n",
    "\\end{gather}\n",
    "\n",
    "\\begin{gather}\n",
    "a_{32} = l_{31} u_{12} + l_{32} u_{22}\n",
    "\\end{gather}\n",
    "\n",
    "\\begin{gather}\n",
    "a_{33} = l_{31} u_{13} + l_{32} u_{23} + l_{33} u_{33}\n",
    "\\end{gather}"
   ]
  },
  {
   "cell_type": "markdown",
   "id": "d2181c11-5f54-4f6c-b108-d4adacdc0ebe",
   "metadata": {},
   "source": [
    "Note that equation is underdetermined (more unknowns than known) with known a (9) and unknown l an u (6 + 6 total 12)\n",
    "\n",
    "Therefore, for a unique solution the matrix L or Ucan be bound or parameterized.\n",
    "\n",
    "This can be achieved by setting the diagonal of L or U is set to 1. Essentially forming the row-echelon for to solve the equations."
   ]
  },
  {
   "cell_type": "markdown",
   "id": "44fad761-7165-4864-8174-40bddb824c3c",
   "metadata": {},
   "source": [
    "***"
   ]
  },
  {
   "cell_type": "markdown",
   "id": "e0d49068-ae61-4910-9b9b-974152be12cf",
   "metadata": {
    "tags": []
   },
   "source": [
    "## Singular Value Decomposition\n",
    "\n",
    "Another decomposition of the matrix is called singular value decomposition (SVD).\n",
    "\n",
    "This can be performed with a rectangular matrix.\n",
    "\n",
    "Rectangular might indicate that it's solvable? It's overdetermined?"
   ]
  },
  {
   "cell_type": "markdown",
   "id": "43849402-5479-4a6c-8865-35643674c8bf",
   "metadata": {},
   "source": [
    "\\begin{gather}\n",
    "    A = U \\Sigma V^T\n",
    "\\end{gather}\n",
    "\n",
    "\\begin{gather}\n",
    "\\begin{matrix} \n",
    "    A & \\text{rectangular (m, n)} \\\\\n",
    "    U & \\text{orthogonal (m, m)} \\\\\n",
    "    \\Sigma & \\text{diagonal (m, n)} \\\\\n",
    "    V^T & \\text{orthogonal (n, n)} \\\\\n",
    "    \\end{matrix}\n",
    "\\end{gather}"
   ]
  },
  {
   "cell_type": "markdown",
   "id": "80bdb861-9457-4f09-a72c-8903292f0383",
   "metadata": {},
   "source": [
    "\\begin{gather}\n",
    "\\begin{matrix} \n",
    "    U & \\text{eigenvectors, principal components} \\\\\n",
    "    \\Sigma & \\text{eigenvalues} \\\\\n",
    "    V^T & \\text{eigenvectors, variance} \\\\\n",
    "    \\end{matrix}\n",
    "\\end{gather}"
   ]
  },
  {
   "cell_type": "code",
   "execution_count": null,
   "id": "6035a1cd-3ca5-4262-b5b4-612e5818edc2",
   "metadata": {},
   "outputs": [],
   "source": []
  },
  {
   "cell_type": "markdown",
   "id": "4bdc8964-ec9a-4664-b818-ca4a59fbfe51",
   "metadata": {},
   "source": []
  },
  {
   "cell_type": "code",
   "execution_count": null,
   "id": "6b2fe9b1-2487-4c46-bce4-ac4cfd652624",
   "metadata": {},
   "outputs": [],
   "source": []
  },
  {
   "cell_type": "code",
   "execution_count": null,
   "id": "d1cb6132-80e8-48bd-95c9-94c51bf5e173",
   "metadata": {},
   "outputs": [],
   "source": []
  },
  {
   "cell_type": "markdown",
   "id": "ff953f99-1626-46af-a6c0-1dc4a8ce1fb0",
   "metadata": {},
   "source": [
    "***"
   ]
  },
  {
   "cell_type": "code",
   "execution_count": null,
   "id": "59c7bf61-a4b7-4aab-a188-da4db3cd255d",
   "metadata": {},
   "outputs": [],
   "source": []
  },
  {
   "cell_type": "code",
   "execution_count": null,
   "id": "eef73f1c-917c-4871-877f-6ad86c45145b",
   "metadata": {},
   "outputs": [],
   "source": []
  },
  {
   "cell_type": "code",
   "execution_count": null,
   "id": "fa05ce62-0060-46fa-8233-2a920178eeec",
   "metadata": {},
   "outputs": [],
   "source": []
  },
  {
   "cell_type": "code",
   "execution_count": null,
   "id": "e1cd6c42-2149-4feb-ac2e-da0a106cb29b",
   "metadata": {},
   "outputs": [],
   "source": []
  },
  {
   "cell_type": "code",
   "execution_count": null,
   "id": "0a7d2b11-24cb-444b-8dbc-14028ebc5f61",
   "metadata": {},
   "outputs": [],
   "source": []
  }
 ],
 "metadata": {
  "kernelspec": {
   "display_name": "ocr_env",
   "language": "python",
   "name": "ocr_env"
  },
  "language_info": {
   "codemirror_mode": {
    "name": "ipython",
    "version": 3
   },
   "file_extension": ".py",
   "mimetype": "text/x-python",
   "name": "python",
   "nbconvert_exporter": "python",
   "pygments_lexer": "ipython3",
   "version": "3.11.3"
  }
 },
 "nbformat": 4,
 "nbformat_minor": 5
}
